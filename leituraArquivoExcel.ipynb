{
 "cells": [
  {
   "cell_type": "code",
   "execution_count": 17,
   "id": "97141a4b",
   "metadata": {
    "scrolled": true
   },
   "outputs": [
    {
     "name": "stdout",
     "output_type": "stream",
     "text": [
      "Requirement already satisfied: pyautogui in c:\\users\\cpd\\raytech\\anaconda3\\lib\\site-packages (0.9.53)\n",
      "Requirement already satisfied: pyscreeze>=0.1.21 in c:\\users\\cpd\\raytech\\anaconda3\\lib\\site-packages (from pyautogui) (0.1.28)\n",
      "Requirement already satisfied: PyTweening>=1.0.1 in c:\\users\\cpd\\raytech\\anaconda3\\lib\\site-packages (from pyautogui) (1.0.4)\n",
      "Requirement already satisfied: pygetwindow>=0.0.5 in c:\\users\\cpd\\raytech\\anaconda3\\lib\\site-packages (from pyautogui) (0.0.9)\n",
      "Requirement already satisfied: mouseinfo in c:\\users\\cpd\\raytech\\anaconda3\\lib\\site-packages (from pyautogui) (0.1.3)\n",
      "Requirement already satisfied: pymsgbox in c:\\users\\cpd\\raytech\\anaconda3\\lib\\site-packages (from pyautogui) (1.0.9)\n",
      "Requirement already satisfied: pyrect in c:\\users\\cpd\\raytech\\anaconda3\\lib\\site-packages (from pygetwindow>=0.0.5->pyautogui) (0.2.0)\n",
      "Requirement already satisfied: pyperclip in c:\\users\\cpd\\raytech\\anaconda3\\lib\\site-packages (from mouseinfo->pyautogui) (1.8.2)\n"
     ]
    }
   ],
   "source": [
    "!pip install pyautogui"
   ]
  },
  {
   "cell_type": "code",
   "execution_count": 18,
   "id": "fa92a38b",
   "metadata": {},
   "outputs": [],
   "source": [
    "import pyautogui\n",
    "import pyperclip\n",
    "import time\n",
    "\n",
    "pyautogui.PAUSE = 2\n",
    "\n",
    "#.click = 1 click, .press aperta uma tecla, .hotkey preciona mais de uma tecla, .write = escrever\n",
    "pyautogui.hotkey('ctrl', 't')\n",
    "pyperclip.copy(\"https://drive.google.com/drive/u/0/folders/11Y3QmRAHv4T4rjGNKreUp-De4P07Mx9N\")\n",
    "pyautogui.hotkey('ctrl', 'v')\n",
    "pyautogui.press('enter')\n",
    "\n",
    "time.sleep(4)\n",
    "\n",
    "pyautogui.click(x=402, y=284)\n",
    "time.sleep(2)\n",
    "\n",
    "pyautogui.click(x=1712, y=183)\n",
    "time.sleep(2)\n",
    "pyautogui.click(x=1482, y=591)\n",
    "time.sleep(3)\n"
   ]
  },
  {
   "cell_type": "code",
   "execution_count": 19,
   "id": "fd069ed7",
   "metadata": {},
   "outputs": [],
   "source": [
    "#time.sleep(8)\n",
    "#pyautogui.position()"
   ]
  },
  {
   "cell_type": "code",
   "execution_count": 20,
   "id": "25fd20af",
   "metadata": {},
   "outputs": [
    {
     "data": {
      "text/html": [
       "<div>\n",
       "<style scoped>\n",
       "    .dataframe tbody tr th:only-of-type {\n",
       "        vertical-align: middle;\n",
       "    }\n",
       "\n",
       "    .dataframe tbody tr th {\n",
       "        vertical-align: top;\n",
       "    }\n",
       "\n",
       "    .dataframe thead th {\n",
       "        text-align: right;\n",
       "    }\n",
       "</style>\n",
       "<table border=\"1\" class=\"dataframe\">\n",
       "  <thead>\n",
       "    <tr style=\"text-align: right;\">\n",
       "      <th></th>\n",
       "      <th>Item</th>\n",
       "      <th>Quantidade</th>\n",
       "      <th>Valor</th>\n",
       "      <th>Anotacoes</th>\n",
       "    </tr>\n",
       "  </thead>\n",
       "  <tbody>\n",
       "    <tr>\n",
       "      <th>0</th>\n",
       "      <td>Cadeira</td>\n",
       "      <td>2</td>\n",
       "      <td>800</td>\n",
       "      <td>Anotações</td>\n",
       "    </tr>\n",
       "    <tr>\n",
       "      <th>1</th>\n",
       "      <td>Computador</td>\n",
       "      <td>1</td>\n",
       "      <td>2000</td>\n",
       "      <td>Anotações</td>\n",
       "    </tr>\n",
       "    <tr>\n",
       "      <th>2</th>\n",
       "      <td>Mesa</td>\n",
       "      <td>1</td>\n",
       "      <td>500</td>\n",
       "      <td>Anotações</td>\n",
       "    </tr>\n",
       "    <tr>\n",
       "      <th>3</th>\n",
       "      <td>Teclado</td>\n",
       "      <td>1</td>\n",
       "      <td>100</td>\n",
       "      <td>Anotações</td>\n",
       "    </tr>\n",
       "    <tr>\n",
       "      <th>4</th>\n",
       "      <td>Mouse</td>\n",
       "      <td>1</td>\n",
       "      <td>50</td>\n",
       "      <td>Anotações</td>\n",
       "    </tr>\n",
       "    <tr>\n",
       "      <th>5</th>\n",
       "      <td>TV</td>\n",
       "      <td>1</td>\n",
       "      <td>1500</td>\n",
       "      <td>Anotações</td>\n",
       "    </tr>\n",
       "    <tr>\n",
       "      <th>6</th>\n",
       "      <td>Canetas</td>\n",
       "      <td>5</td>\n",
       "      <td>10</td>\n",
       "      <td>Anotações</td>\n",
       "    </tr>\n",
       "    <tr>\n",
       "      <th>7</th>\n",
       "      <td>Lápis</td>\n",
       "      <td>2</td>\n",
       "      <td>2</td>\n",
       "      <td>Anotações</td>\n",
       "    </tr>\n",
       "    <tr>\n",
       "      <th>8</th>\n",
       "      <td>Tesoura</td>\n",
       "      <td>1</td>\n",
       "      <td>7</td>\n",
       "      <td>Anotações</td>\n",
       "    </tr>\n",
       "  </tbody>\n",
       "</table>\n",
       "</div>"
      ],
      "text/plain": [
       "         Item  Quantidade  Valor  Anotacoes\n",
       "0     Cadeira           2    800  Anotações\n",
       "1  Computador           1   2000  Anotações\n",
       "2        Mesa           1    500  Anotações\n",
       "3     Teclado           1    100  Anotações\n",
       "4       Mouse           1     50  Anotações\n",
       "5         TV            1   1500  Anotações\n",
       "6     Canetas           5     10  Anotações\n",
       "7      Lápis            2      2  Anotações\n",
       "8     Tesoura           1      7  Anotações"
      ]
     },
     "metadata": {},
     "output_type": "display_data"
    }
   ],
   "source": [
    "import pandas\n",
    "\n",
    "#o jupyter já vem instalado a blibioteca pandas, sem o editor jupyter precisa baixar (pandas,numpy,openpyx1)\n",
    "#sempre que estiver colocando o local de um arquivo, precisa colocar antes do local uma letra r, para que o python não interprete os contrabarras como um comando, então o r, é para transformar o local como um texto cru de forma que literal não interpretada. \n",
    "tabela = pandas.read_excel(r\"C:\\Users\\CPD\\Downloads\\orcamento_escritorio.xlsx\")\n",
    "#display é um comando de formatação do jupiter, sendo no caso a tabela. Se o editor for diferente, usar print para mostrar dados\n",
    "#sheet_name='' para selecionar uma aba na sua tabela\n",
    "display(tabela)"
   ]
  },
  {
   "cell_type": "code",
   "execution_count": 23,
   "id": "49650ce4",
   "metadata": {
    "scrolled": false
   },
   "outputs": [
    {
     "name": "stdout",
     "output_type": "stream",
     "text": [
      "Quantia = 4969, Quantidade = 15. \n"
     ]
    }
   ],
   "source": [
    "quantia = tabela['Valor'].sum()\n",
    "quantidade = tabela['Quantidade'].sum()\n",
    "print(f'Quantia = {quantia}, Quantidade = {quantidade}. ')"
   ]
  },
  {
   "cell_type": "code",
   "execution_count": 22,
   "id": "f6ebfb75",
   "metadata": {},
   "outputs": [],
   "source": [
    "pyautogui.hotkey('ctrl', 't')\n",
    "pyperclip.copy('https://mail.google.com/mail/u/0/?tab=rm&ogbl#inbox')\n",
    "pyautogui.hotkey('ctrl', 'v')\n",
    "pyautogui.press('enter')\n",
    "time.sleep(6)\n",
    "\n",
    "pyautogui.click(x=99, y=202)\n",
    "\n",
    "pyautogui.write('brunarrversiani@gmail.com')\n",
    "pyautogui.press('tab')\n",
    "\n",
    "pyautogui.press('tab')\n",
    "pyperclip.copy('Orçamentos de Escritório ')\n",
    "pyautogui.hotkey('ctrl', 'v')\n",
    "\n",
    "pyautogui.press('tab')\n",
    "#sempre que tiver características especiais de texto, é preciso usar o pyperclip.copy e pyautogui.hotkey('ctrl', 'v') para escreve algo para que ele não oculte os do texto\n",
    "texto = f'''\n",
    "Prezados,\n",
    "\n",
    "Segue orçamento de materiais de escritório.\n",
    "Quantia: R${quantia:,.2f}\n",
    "Quantidade de itens: {quantidade:,}\n",
    "\n",
    "Atenciosamnete, \n",
    "Rayane\n",
    "'''\n",
    "\n",
    "pyperclip.copy(texto)\n",
    "pyautogui.hotkey('ctrl', 'v')\n",
    "\n",
    "pyautogui.hotkey('ctrl', 'enter')"
   ]
  },
  {
   "cell_type": "code",
   "execution_count": null,
   "id": "906734f4",
   "metadata": {},
   "outputs": [],
   "source": []
  }
 ],
 "metadata": {
  "kernelspec": {
   "display_name": "Python 3 (ipykernel)",
   "language": "python",
   "name": "python3"
  },
  "language_info": {
   "codemirror_mode": {
    "name": "ipython",
    "version": 3
   },
   "file_extension": ".py",
   "mimetype": "text/x-python",
   "name": "python",
   "nbconvert_exporter": "python",
   "pygments_lexer": "ipython3",
   "version": "3.9.12"
  }
 },
 "nbformat": 4,
 "nbformat_minor": 5
}
